{
 "cells": [
  {
   "cell_type": "markdown",
   "id": "cc06d4f8",
   "metadata": {},
   "source": [
    "![cover](cover/02.%20Series.png)"
   ]
  },
  {
   "cell_type": "markdown",
   "id": "190e8fb3",
   "metadata": {},
   "source": [
    "#### Outline\n",
    "* Creating a Series\n",
    "* Updating a Series\n",
    "* Accessing a Series\n",
    "* Series Operations"
   ]
  },
  {
   "cell_type": "markdown",
   "id": "81d0ac23",
   "metadata": {},
   "source": [
    "##### Import Pandas"
   ]
  },
  {
   "cell_type": "code",
   "execution_count": 1,
   "id": "46fcfd63",
   "metadata": {},
   "outputs": [],
   "source": [
    "import pandas"
   ]
  },
  {
   "cell_type": "markdown",
   "id": "0fbb6409",
   "metadata": {},
   "source": [
    "### Creating a Series\n",
    "`pandas.Series(list)`\n",
    "\n",
    "Creates a series"
   ]
  },
  {
   "cell_type": "code",
   "execution_count": 2,
   "id": "b1c6ceef",
   "metadata": {},
   "outputs": [
    {
     "name": "stdout",
     "output_type": "stream",
     "text": [
      "0     2\n",
      "1     4\n",
      "2    15\n",
      "3    16\n",
      "4    23\n",
      "5    32\n",
      "dtype: int64\n"
     ]
    }
   ],
   "source": [
    "series1 = pandas.Series([2,4,15,16,23,32])\n",
    "print(series1)"
   ]
  },
  {
   "cell_type": "markdown",
   "id": "b422cfe3",
   "metadata": {},
   "source": [
    "#### Empty\n",
    "`pandas.Series([])`\n",
    "\n",
    "Creates a series with no elements"
   ]
  },
  {
   "cell_type": "code",
   "execution_count": 3,
   "id": "a3f43d26",
   "metadata": {},
   "outputs": [
    {
     "name": "stdout",
     "output_type": "stream",
     "text": [
      "Series([], dtype: object)\n"
     ]
    }
   ],
   "source": [
    "empty_series = pandas.Series([])\n",
    "print(empty_series)"
   ]
  },
  {
   "cell_type": "markdown",
   "id": "dc4f540e",
   "metadata": {},
   "source": [
    "#### Scalar\n",
    "`pandas.Series(n)`\n",
    "\n",
    "Creates a series with identical values"
   ]
  },
  {
   "cell_type": "code",
   "execution_count": 4,
   "id": "79eca8c4",
   "metadata": {},
   "outputs": [
    {
     "name": "stdout",
     "output_type": "stream",
     "text": [
      "0    5\n",
      "dtype: int64\n"
     ]
    }
   ],
   "source": [
    "scalar_series = pandas.Series(5)\n",
    "print(scalar_series)"
   ]
  },
  {
   "cell_type": "code",
   "execution_count": 5,
   "id": "831c7e4a",
   "metadata": {},
   "outputs": [
    {
     "name": "stdout",
     "output_type": "stream",
     "text": [
      "0    5\n",
      "1    5\n",
      "2    5\n",
      "3    5\n",
      "4    5\n",
      "dtype: int64\n"
     ]
    }
   ],
   "source": [
    "scalar_series2 = pandas.Series(5, index={0,1,2,3,4})\n",
    "print(scalar_series2)"
   ]
  },
  {
   "cell_type": "markdown",
   "id": "1e74b9c8",
   "metadata": {},
   "source": [
    "### Updating a Series"
   ]
  },
  {
   "cell_type": "markdown",
   "id": "628e3b7d",
   "metadata": {},
   "source": [
    "#### Index\n",
    "`index=[]`\n",
    "\n",
    "Allows you to change the index of the series to something else"
   ]
  },
  {
   "cell_type": "code",
   "execution_count": 6,
   "id": "9de74042",
   "metadata": {},
   "outputs": [
    {
     "name": "stdout",
     "output_type": "stream",
     "text": [
      "a    1\n",
      "b    2\n",
      "c    3\n",
      "dtype: int64\n"
     ]
    }
   ],
   "source": [
    "series2 = pandas.Series([1,2,3], index=['a','b','c'])\n",
    "print(series2)"
   ]
  },
  {
   "cell_type": "markdown",
   "id": "76e7b8c5",
   "metadata": {},
   "source": [
    "#### dtype\n",
    "`dtype=`\n",
    "\n",
    "Allows you to change the data type stored within the series, will perform type casting when possible"
   ]
  },
  {
   "cell_type": "code",
   "execution_count": 7,
   "id": "9d6e6ce0",
   "metadata": {},
   "outputs": [
    {
     "name": "stdout",
     "output_type": "stream",
     "text": [
      "0    2.0\n",
      "1    4.0\n",
      "2    6.0\n",
      "3    8.0\n",
      "dtype: float64\n"
     ]
    }
   ],
   "source": [
    "series3 = pandas.Series([2,4,6,8], dtype=float)\n",
    "print(series3)"
   ]
  },
  {
   "cell_type": "code",
   "execution_count": 8,
   "id": "e6e814c2",
   "metadata": {},
   "outputs": [],
   "source": [
    "# error_series1 = pandas.Series(['a','b','c'], dtype=int)\n",
    "# the code above would yield an error as the characters 'a', 'b' and 'c' cannot be type cast into integers"
   ]
  },
  {
   "cell_type": "markdown",
   "id": "a6e1c8aa",
   "metadata": {},
   "source": [
    "#### column name\n",
    "`name=\"\"`\n",
    "\n",
    "Changes the name of the column in the series"
   ]
  },
  {
   "cell_type": "code",
   "execution_count": 9,
   "id": "c04289c8",
   "metadata": {},
   "outputs": [
    {
     "name": "stdout",
     "output_type": "stream",
     "text": [
      "0    4\n",
      "1    6\n",
      "2    9\n",
      "3    3\n",
      "Name: numbers, dtype: int64\n"
     ]
    }
   ],
   "source": [
    "series4 = pandas.Series([4,6,9,3], name=\"numbers\")\n",
    "print(series4)"
   ]
  },
  {
   "cell_type": "markdown",
   "id": "52adfe03",
   "metadata": {},
   "source": [
    "### Accessing a Series"
   ]
  },
  {
   "cell_type": "markdown",
   "id": "09235743",
   "metadata": {},
   "source": [
    "#### Index\n",
    "`series[i]`\n",
    "\n",
    "Allows you to access a particular element at an index `i`"
   ]
  },
  {
   "cell_type": "code",
   "execution_count": 10,
   "id": "071fb26b",
   "metadata": {},
   "outputs": [
    {
     "name": "stdout",
     "output_type": "stream",
     "text": [
      "0     2\n",
      "1     4\n",
      "2    15\n",
      "3    16\n",
      "4    23\n",
      "5    32\n",
      "dtype: int64\n"
     ]
    }
   ],
   "source": [
    "print(series1)"
   ]
  },
  {
   "cell_type": "code",
   "execution_count": 11,
   "id": "28c2b575",
   "metadata": {},
   "outputs": [
    {
     "name": "stdout",
     "output_type": "stream",
     "text": [
      "16\n"
     ]
    }
   ],
   "source": [
    "print(series1[3])"
   ]
  },
  {
   "cell_type": "code",
   "execution_count": 12,
   "id": "d7922417",
   "metadata": {},
   "outputs": [
    {
     "name": "stdout",
     "output_type": "stream",
     "text": [
      "a    1\n",
      "b    2\n",
      "c    3\n",
      "dtype: int64\n"
     ]
    }
   ],
   "source": [
    "print(series2)"
   ]
  },
  {
   "cell_type": "code",
   "execution_count": 13,
   "id": "8ce2767e",
   "metadata": {},
   "outputs": [
    {
     "name": "stdout",
     "output_type": "stream",
     "text": [
      "2\n"
     ]
    }
   ],
   "source": [
    "print(series2['b'])"
   ]
  },
  {
   "cell_type": "markdown",
   "id": "fe671307",
   "metadata": {},
   "source": [
    "#### Slicing\n",
    "`series[start:end:step_by]`\n",
    "\n",
    "Allows you to select multiple items from the series following particular rules"
   ]
  },
  {
   "cell_type": "code",
   "execution_count": 14,
   "id": "ca66ee28",
   "metadata": {},
   "outputs": [
    {
     "name": "stdout",
     "output_type": "stream",
     "text": [
      "0    2.0\n",
      "1    4.0\n",
      "2    6.0\n",
      "3    8.0\n",
      "dtype: float64\n"
     ]
    }
   ],
   "source": [
    "print(series3)"
   ]
  },
  {
   "cell_type": "code",
   "execution_count": 15,
   "id": "4a55d65e",
   "metadata": {},
   "outputs": [
    {
     "name": "stdout",
     "output_type": "stream",
     "text": [
      "1    4.0\n",
      "2    6.0\n",
      "dtype: float64\n"
     ]
    }
   ],
   "source": [
    "print(series3[1:3])"
   ]
  },
  {
   "cell_type": "code",
   "execution_count": 16,
   "id": "c7969189",
   "metadata": {},
   "outputs": [
    {
     "name": "stdout",
     "output_type": "stream",
     "text": [
      "0    2.0\n",
      "2    6.0\n",
      "dtype: float64\n"
     ]
    }
   ],
   "source": [
    "print(series3[::2])"
   ]
  },
  {
   "cell_type": "markdown",
   "id": "28e72cd4",
   "metadata": {},
   "source": [
    "### Series Operations"
   ]
  },
  {
   "cell_type": "markdown",
   "id": "b92c9d30",
   "metadata": {},
   "source": [
    "#### max\n",
    "`max(series)`\n",
    "\n",
    "Returns the largest element in the series"
   ]
  },
  {
   "cell_type": "code",
   "execution_count": 17,
   "id": "39db86f2",
   "metadata": {},
   "outputs": [
    {
     "name": "stdout",
     "output_type": "stream",
     "text": [
      "0    4\n",
      "1    6\n",
      "2    9\n",
      "3    3\n",
      "Name: numbers, dtype: int64\n"
     ]
    }
   ],
   "source": [
    "print(series4)"
   ]
  },
  {
   "cell_type": "code",
   "execution_count": 18,
   "id": "dacc28d8",
   "metadata": {},
   "outputs": [
    {
     "name": "stdout",
     "output_type": "stream",
     "text": [
      "9\n"
     ]
    }
   ],
   "source": [
    "print(max(series4))"
   ]
  },
  {
   "cell_type": "markdown",
   "id": "f369968a",
   "metadata": {},
   "source": [
    "#### min\n",
    "`min(series)`\n",
    "\n",
    "Returns the smallest element in the series"
   ]
  },
  {
   "cell_type": "code",
   "execution_count": 19,
   "id": "1b3caf48",
   "metadata": {},
   "outputs": [
    {
     "name": "stdout",
     "output_type": "stream",
     "text": [
      "3\n"
     ]
    }
   ],
   "source": [
    "print(min(series4))"
   ]
  },
  {
   "cell_type": "markdown",
   "id": "b66a6eb1",
   "metadata": {},
   "source": [
    "#### compare\n",
    "`series[series == n]`</br></br>\n",
    "`series[series != n]`</br></br>\n",
    "`series[series >= n]`</br></br>\n",
    "`series[series <= n]`</br></br>\n",
    "`series[series > n]`</br></br>\n",
    "`series[series > n]`</br></br>\n",
    "\n",
    "Allows you to select elements that fulfil a particular conditional expression"
   ]
  },
  {
   "cell_type": "code",
   "execution_count": 20,
   "id": "e1a2b9b4",
   "metadata": {},
   "outputs": [
    {
     "name": "stdout",
     "output_type": "stream",
     "text": [
      "0     2\n",
      "1     4\n",
      "2    15\n",
      "3    16\n",
      "4    23\n",
      "5    32\n",
      "dtype: int64\n"
     ]
    }
   ],
   "source": [
    "print(series1)"
   ]
  },
  {
   "cell_type": "code",
   "execution_count": 21,
   "id": "0938f8f2",
   "metadata": {},
   "outputs": [
    {
     "name": "stdout",
     "output_type": "stream",
     "text": [
      "3    16\n",
      "4    23\n",
      "5    32\n",
      "dtype: int64\n"
     ]
    }
   ],
   "source": [
    "print(series1[series1 > 15])"
   ]
  },
  {
   "cell_type": "code",
   "execution_count": 22,
   "id": "19817521",
   "metadata": {},
   "outputs": [
    {
     "name": "stdout",
     "output_type": "stream",
     "text": [
      "1    4\n",
      "dtype: int64\n"
     ]
    }
   ],
   "source": [
    "print(series1[series1 == 4])"
   ]
  },
  {
   "cell_type": "markdown",
   "id": "483838f6",
   "metadata": {},
   "source": [
    "#### add\n",
    "`series_1 + series_2`\n",
    "\n",
    "Performs addition with elements at index `i` from both series"
   ]
  },
  {
   "cell_type": "code",
   "execution_count": 23,
   "id": "39bab5d9",
   "metadata": {},
   "outputs": [
    {
     "name": "stdout",
     "output_type": "stream",
     "text": [
      "0    2.0\n",
      "1    4.0\n",
      "2    6.0\n",
      "3    8.0\n",
      "dtype: float64\n",
      "0    4\n",
      "1    6\n",
      "2    9\n",
      "3    3\n",
      "Name: numbers, dtype: int64\n"
     ]
    }
   ],
   "source": [
    "print(series3)\n",
    "print(series4)"
   ]
  },
  {
   "cell_type": "code",
   "execution_count": 24,
   "id": "549c25c0",
   "metadata": {},
   "outputs": [
    {
     "name": "stdout",
     "output_type": "stream",
     "text": [
      "0     6.0\n",
      "1    10.0\n",
      "2    15.0\n",
      "3    11.0\n",
      "dtype: float64\n"
     ]
    }
   ],
   "source": [
    "series5 = series3 + series4\n",
    "print(series5)"
   ]
  },
  {
   "cell_type": "code",
   "execution_count": 25,
   "id": "f0f13ec0",
   "metadata": {},
   "outputs": [
    {
     "name": "stdout",
     "output_type": "stream",
     "text": [
      "0     2\n",
      "1     4\n",
      "2    15\n",
      "3    16\n",
      "4    23\n",
      "5    32\n",
      "dtype: int64\n"
     ]
    }
   ],
   "source": [
    "print(series1)"
   ]
  },
  {
   "cell_type": "code",
   "execution_count": 26,
   "id": "f5a1dd0b",
   "metadata": {},
   "outputs": [
    {
     "name": "stdout",
     "output_type": "stream",
     "text": [
      "0     6.0\n",
      "1    10.0\n",
      "2    24.0\n",
      "3    19.0\n",
      "4     NaN\n",
      "5     NaN\n",
      "dtype: float64\n"
     ]
    }
   ],
   "source": [
    "print(series1 + series4)"
   ]
  },
  {
   "cell_type": "markdown",
   "id": "3b6e4f42",
   "metadata": {},
   "source": [
    "### For Source code:\n",
    "https://sites.google.com/view/aorbtech/programming/\n",
    "\n",
    "#### @Aorb Tech"
   ]
  }
 ],
 "metadata": {
  "kernelspec": {
   "display_name": "Python 3",
   "language": "python",
   "name": "python3"
  },
  "language_info": {
   "codemirror_mode": {
    "name": "ipython",
    "version": 3
   },
   "file_extension": ".py",
   "mimetype": "text/x-python",
   "name": "python",
   "nbconvert_exporter": "python",
   "pygments_lexer": "ipython3",
   "version": "3.13.4"
  }
 },
 "nbformat": 4,
 "nbformat_minor": 5
}
