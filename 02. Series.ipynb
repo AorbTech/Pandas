{
 "cells": [
  {
   "cell_type": "markdown",
   "id": "cc06d4f8",
   "metadata": {},
   "source": [
    "![cover](cover/02.%20Series.png)"
   ]
  },
  {
   "cell_type": "markdown",
   "id": "190e8fb3",
   "metadata": {},
   "source": [
    "#### Outline\n",
    "* Creating a Series\n",
    "* Updating a Series\n",
    "* Accessing a Series\n",
    "* Series Operations"
   ]
  },
  {
   "cell_type": "markdown",
   "id": "0fbb6409",
   "metadata": {},
   "source": [
    "### Creating a Series\n",
    "`pandas.Series(list)`"
   ]
  },
  {
   "cell_type": "markdown",
   "id": "b422cfe3",
   "metadata": {},
   "source": [
    "#### Empty\n",
    "`pandas.Series([])`"
   ]
  },
  {
   "cell_type": "markdown",
   "id": "dc4f540e",
   "metadata": {},
   "source": [
    "#### Scalar\n",
    "`pandas.Series(n)`"
   ]
  },
  {
   "cell_type": "markdown",
   "id": "1e74b9c8",
   "metadata": {},
   "source": [
    "### Updating a Series"
   ]
  },
  {
   "cell_type": "markdown",
   "id": "628e3b7d",
   "metadata": {},
   "source": [
    "#### Index\n",
    "`index=[]`"
   ]
  },
  {
   "cell_type": "markdown",
   "id": "76e7b8c5",
   "metadata": {},
   "source": [
    "#### dtype\n",
    "`dtype=`"
   ]
  },
  {
   "cell_type": "markdown",
   "id": "a6e1c8aa",
   "metadata": {},
   "source": [
    "#### column name\n",
    "`name=\"\"`"
   ]
  },
  {
   "cell_type": "markdown",
   "id": "52adfe03",
   "metadata": {},
   "source": [
    "### Accessing a Series"
   ]
  },
  {
   "cell_type": "markdown",
   "id": "09235743",
   "metadata": {},
   "source": [
    "#### Index\n",
    "`series[i]`"
   ]
  },
  {
   "cell_type": "markdown",
   "id": "fe671307",
   "metadata": {},
   "source": [
    "#### Slicing\n",
    "`series[start:end:step_by]`"
   ]
  },
  {
   "cell_type": "markdown",
   "id": "28e72cd4",
   "metadata": {},
   "source": [
    "### Series Operations"
   ]
  },
  {
   "cell_type": "markdown",
   "id": "b92c9d30",
   "metadata": {},
   "source": [
    "#### max\n",
    "`max(series)`"
   ]
  },
  {
   "cell_type": "markdown",
   "id": "f369968a",
   "metadata": {},
   "source": [
    "#### min\n",
    "`min(series)`"
   ]
  },
  {
   "cell_type": "markdown",
   "id": "fb353044",
   "metadata": {},
   "source": [
    "#### add\n",
    "`series[series == n]`</br></br>\n",
    "`series[series != n]`</br></br>\n",
    "`series[series >= n]`</br></br>\n",
    "`series[series <= n]`</br></br>\n",
    "`series[series > n]`</br></br>\n",
    "`series[series > n]`</br></br>"
   ]
  },
  {
   "cell_type": "markdown",
   "id": "b66a6eb1",
   "metadata": {},
   "source": [
    "#### compare"
   ]
  },
  {
   "cell_type": "markdown",
   "id": "44dddd71",
   "metadata": {},
   "source": [
    "##### Import NumPy"
   ]
  },
  {
   "cell_type": "code",
   "execution_count": null,
   "id": "ef1c9098",
   "metadata": {},
   "outputs": [],
   "source": [
    "import numpy"
   ]
  },
  {
   "cell_type": "markdown",
   "id": "3b6e4f42",
   "metadata": {},
   "source": [
    "### For Source code:\n",
    "https://sites.google.com/view/aorbtech/programming/\n",
    "\n",
    "#### @Aorb Tech"
   ]
  }
 ],
 "metadata": {
  "kernelspec": {
   "display_name": "Python 3",
   "language": "python",
   "name": "python3"
  },
  "language_info": {
   "codemirror_mode": {
    "name": "ipython",
    "version": 3
   },
   "file_extension": ".py",
   "mimetype": "text/x-python",
   "name": "python",
   "nbconvert_exporter": "python",
   "pygments_lexer": "ipython3",
   "version": "3.13.5"
  }
 },
 "nbformat": 4,
 "nbformat_minor": 5
}
