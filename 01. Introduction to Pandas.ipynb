{
 "cells": [
  {
   "cell_type": "markdown",
   "id": "303b6a7d",
   "metadata": {},
   "source": [
    "![Cover](cover/01.%20Intro.png)"
   ]
  },
  {
   "cell_type": "markdown",
   "id": "c638c00d",
   "metadata": {},
   "source": [
    "### Outline\n",
    "* Introduction of Pandas\n",
    "* Founder of Pandas\n",
    "* Why we use Pandas\n",
    "* How to install and use Pandas\n",
    "* Prerequisite to Learn Pandas\n",
    "* Outline of this Course\n",
    "\n",
    "### Introduction to Pandas\n",
    "* pandas is a Python library used for data analysis and manipulation.\n",
    "* It makes working with data easier, especially tabular data\n",
    "\n",
    "### Founder of Pandas\n",
    "The pandas library was founded by Wes McKinney in 2008 while he was working at AQR Capital Management (a financial firm)\n",
    "\n",
    "### Why Use pandas?\n",
    "* Much faster and more powerful than Excel.\n",
    "* Easy to use for data scientists, analysts, and engineers.\n",
    "* Works very well with other libraries like NumPy, Matplotlib, Scikit-learn."
   ]
  },
  {
   "cell_type": "markdown",
   "id": "06a0b3f6",
   "metadata": {},
   "source": [
    "### How to Install and Use Pandas"
   ]
  },
  {
   "cell_type": "code",
   "execution_count": 1,
   "id": "7352ac3c",
   "metadata": {},
   "outputs": [
    {
     "data": {
      "text/plain": [
       "0    1\n",
       "1    2\n",
       "2    3\n",
       "dtype: int64"
      ]
     },
     "execution_count": 1,
     "metadata": {},
     "output_type": "execute_result"
    }
   ],
   "source": [
    "import pandas as pd\n",
    "pd.Series([1, 2, 3])"
   ]
  },
  {
   "cell_type": "markdown",
   "id": "e53a4bf4",
   "metadata": {},
   "source": [
    "### Prerequisite to Learn Pandas\n",
    "\n",
    "* Python\n",
    "* Numpy"
   ]
  },
  {
   "cell_type": "markdown",
   "id": "c05cc651",
   "metadata": {},
   "source": [
    "### Outline of this Course\n",
    "* Pandas Series\n",
    "* Pandas DataFrames\n",
    "* Pandas read_csv File\n",
    "* Pandas write_csv File\n",
    "* Hading Missing Values\n",
    "* Pandas fillna() Method\n",
    "* Pandas replace() Function\n",
    "* Pandas Interpolate() Function\n",
    "* Pandas loc & iloc Method\n",
    "* Pandas GroupBy Function\n",
    "* Pandas Merging() Function\n",
    "* Pandas Concat() Function\n",
    "* Pandas Join() Method\n",
    "* Pandas Append() Method\n",
    "* Pandas Pivot Table\n",
    "* Pandas Melt() Function"
   ]
  },
  {
   "cell_type": "markdown",
   "id": "d5e9ea9d",
   "metadata": {},
   "source": [
    "### For Source code:\n",
    "https://sites.google.com/view/aorbtech/programming/\n",
    "\n",
    "### @Aorb Tech"
   ]
  }
 ],
 "metadata": {
  "kernelspec": {
   "display_name": "Python 3",
   "language": "python",
   "name": "python3"
  },
  "language_info": {
   "codemirror_mode": {
    "name": "ipython",
    "version": 3
   },
   "file_extension": ".py",
   "mimetype": "text/x-python",
   "name": "python",
   "nbconvert_exporter": "python",
   "pygments_lexer": "ipython3",
   "version": "3.11.9"
  }
 },
 "nbformat": 4,
 "nbformat_minor": 5
}
