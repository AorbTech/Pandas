{
 "cells": [
  {
   "cell_type": "markdown",
   "id": "cc06d4f8",
   "metadata": {},
   "source": [
    "![cover](cover/04.%20CSV%20Files.png)"
   ]
  },
  {
   "cell_type": "markdown",
   "id": "190e8fb3",
   "metadata": {},
   "source": [
    "#### Outline\n",
    "* Reading a CSV File\n",
    "* Writing to a CSV File\n",
    "\n",
    "##### Properties and Functions\n",
    "* nrows\n",
    "* usecols\n",
    "* skiprows\n",
    "* index_col\n",
    "* header\n",
    "* prefix\n",
    "* names\n",
    "* head()\n",
    "* tail()\n",
    "* dtype"
   ]
  },
  {
   "cell_type": "markdown",
   "id": "81d0ac23",
   "metadata": {},
   "source": [
    "##### Import Pandas"
   ]
  },
  {
   "cell_type": "code",
   "execution_count": 1,
   "id": "46fcfd63",
   "metadata": {},
   "outputs": [],
   "source": [
    "import pandas"
   ]
  },
  {
   "cell_type": "markdown",
   "id": "104aab4e",
   "metadata": {},
   "source": [
    "##### Import Dataset"
   ]
  },
  {
   "cell_type": "markdown",
   "id": "d4451536",
   "metadata": {},
   "source": [
    "### Reading a CSV File\n",
    "`pandas.read_csv(file_location)`"
   ]
  },
  {
   "cell_type": "markdown",
   "id": "2e723435",
   "metadata": {},
   "source": [
    "### Writing to a CSV File"
   ]
  },
  {
   "cell_type": "markdown",
   "id": "75d36afb",
   "metadata": {},
   "source": [
    "#### nrows"
   ]
  },
  {
   "cell_type": "markdown",
   "id": "7b5b04b7",
   "metadata": {},
   "source": [
    "#### usecols"
   ]
  },
  {
   "cell_type": "markdown",
   "id": "4df67725",
   "metadata": {},
   "source": [
    "#### skiprows"
   ]
  },
  {
   "cell_type": "markdown",
   "id": "5f494683",
   "metadata": {},
   "source": [
    "#### index_col"
   ]
  },
  {
   "cell_type": "markdown",
   "id": "12255534",
   "metadata": {},
   "source": [
    "#### header"
   ]
  },
  {
   "cell_type": "markdown",
   "id": "0fe88861",
   "metadata": {},
   "source": [
    "#### prefix"
   ]
  },
  {
   "cell_type": "markdown",
   "id": "43842d16",
   "metadata": {},
   "source": [
    "#### names"
   ]
  },
  {
   "cell_type": "markdown",
   "id": "e8c5b743",
   "metadata": {},
   "source": [
    "#### head()"
   ]
  },
  {
   "cell_type": "markdown",
   "id": "c888cc99",
   "metadata": {},
   "source": [
    "#### tail()"
   ]
  },
  {
   "cell_type": "markdown",
   "id": "2ad57809",
   "metadata": {},
   "source": [
    "#### dtype"
   ]
  },
  {
   "cell_type": "markdown",
   "id": "3b6e4f42",
   "metadata": {},
   "source": [
    "### For Source code:\n",
    "https://sites.google.com/view/aorbtech/programming/\n",
    "\n",
    "#### @Aorb Tech"
   ]
  }
 ],
 "metadata": {
  "kernelspec": {
   "display_name": "Python 3",
   "language": "python",
   "name": "python3"
  },
  "language_info": {
   "codemirror_mode": {
    "name": "ipython",
    "version": 3
   },
   "file_extension": ".py",
   "mimetype": "text/x-python",
   "name": "python",
   "nbconvert_exporter": "python",
   "pygments_lexer": "ipython3",
   "version": "3.13.4"
  }
 },
 "nbformat": 4,
 "nbformat_minor": 5
}
