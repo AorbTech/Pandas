{
 "cells": [
  {
   "cell_type": "markdown",
   "id": "cc06d4f8",
   "metadata": {},
   "source": [
    "![cover](cover/04.%20CSV%20Files.png)"
   ]
  },
  {
   "cell_type": "markdown",
   "id": "190e8fb3",
   "metadata": {},
   "source": [
    "#### Outline\n",
    "* Reading a CSV File\n",
    "* Writing to a CSV File\n",
    "* Properties\n",
    "\n",
    "##### Parameters and Functions\n",
    "* nrows\n",
    "* usecols\n",
    "* skiprows\n",
    "* index_col\n",
    "* header\n",
    "* prefix\n",
    "* names\n",
    "* head()\n",
    "* tail()\n",
    "* dtype"
   ]
  },
  {
   "cell_type": "markdown",
   "id": "81d0ac23",
   "metadata": {},
   "source": [
    "##### Import Pandas"
   ]
  },
  {
   "cell_type": "markdown",
   "id": "d4451536",
   "metadata": {},
   "source": [
    "### Reading a CSV File\n",
    "`pandas.read_csv(file_location)`"
   ]
  },
  {
   "cell_type": "markdown",
   "id": "2e723435",
   "metadata": {},
   "source": [
    "### Writing to a CSV File"
   ]
  },
  {
   "cell_type": "markdown",
   "id": "958702e2",
   "metadata": {},
   "source": [
    "### Properties\n",
    "* `type()`\n",
    "* `columns`\n",
    "* `info()`\n",
    "* `shape`\n",
    "* `size`"
   ]
  },
  {
   "cell_type": "markdown",
   "id": "8a79ec4b",
   "metadata": {},
   "source": [
    "### Parameters"
   ]
  },
  {
   "cell_type": "markdown",
   "id": "75d36afb",
   "metadata": {},
   "source": [
    "#### nrows\n",
    "`nrows=n`\n",
    "\n",
    "Defines how many rows of the dataset we want to use"
   ]
  },
  {
   "cell_type": "markdown",
   "id": "7b5b04b7",
   "metadata": {},
   "source": [
    "#### usecols\n",
    "`usecols=[a,b,...,xn]`\n",
    "\n",
    "Defines which columns in the dataset we will use, these can be defined by their names, or indices, given by an integer"
   ]
  },
  {
   "cell_type": "markdown",
   "id": "4df67725",
   "metadata": {},
   "source": [
    "#### skiprows\n",
    "`skiprows=[a,b,...,xn]`\n",
    "\n",
    "Defines which rows in the dataset we will skip, these can be defined by their names, or indices, given by an integer"
   ]
  },
  {
   "cell_type": "markdown",
   "id": "5f494683",
   "metadata": {},
   "source": [
    "#### index_col\n",
    "`index_col=n`\n",
    "\n",
    "Sets a column of the dataset as the index column"
   ]
  },
  {
   "cell_type": "markdown",
   "id": "12255534",
   "metadata": {},
   "source": [
    "#### header\n",
    "`header=n` --> can be `None` type\n",
    "\n",
    "Sets a row of the dataset as the header (top row) and to skip those above, as defined by its index"
   ]
  },
  {
   "cell_type": "markdown",
   "id": "0fe88861",
   "metadata": {},
   "source": [
    "#### prefix\n",
    "`header=None` then: `prefix=\"\"`\n",
    "\n",
    "Sets a prefix for each column in the header assuming we don't have one, the column index will be appended to the prefix"
   ]
  },
  {
   "cell_type": "markdown",
   "id": "43842d16",
   "metadata": {},
   "source": [
    "#### names\n",
    "`names=[\"\",..,\"\"]`\n",
    "\n",
    "Sets header names for the dataset"
   ]
  },
  {
   "cell_type": "markdown",
   "id": "e8c5b743",
   "metadata": {},
   "source": [
    "#### head()\n",
    "`head(n)`\n",
    "\n",
    "Selects the first `n` rows of the dataset, (default=5)"
   ]
  },
  {
   "cell_type": "markdown",
   "id": "c888cc99",
   "metadata": {},
   "source": [
    "#### tail()\n",
    "`tail(n)`\n",
    "\n",
    "Selects the last `n` rows of the dataset, (default=5)"
   ]
  },
  {
   "cell_type": "markdown",
   "id": "2ad57809",
   "metadata": {},
   "source": [
    "#### dtype\n",
    "`dtype={\"\" : \"\"}`\n",
    "\n",
    "Changes the datatype of any particular column"
   ]
  },
  {
   "cell_type": "markdown",
   "id": "3b6e4f42",
   "metadata": {},
   "source": [
    "### For Source code:\n",
    "https://sites.google.com/view/aorbtech/programming/\n",
    "\n",
    "#### @Aorb Tech"
   ]
  }
 ],
 "metadata": {
  "kernelspec": {
   "display_name": "Python 3",
   "language": "python",
   "name": "python3"
  },
  "language_info": {
   "codemirror_mode": {
    "name": "ipython",
    "version": 3
   },
   "file_extension": ".py",
   "mimetype": "text/x-python",
   "name": "python",
   "nbconvert_exporter": "python",
   "pygments_lexer": "ipython3",
   "version": "3.13.5"
  }
 },
 "nbformat": 4,
 "nbformat_minor": 5
}
