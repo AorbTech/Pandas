{
 "cells": [
  {
   "cell_type": "markdown",
   "id": "cc06d4f8",
   "metadata": {},
   "source": [
    "![cover](cover/06.%20Fillna%20Method.png)"
   ]
  },
  {
   "cell_type": "markdown",
   "id": "190e8fb3",
   "metadata": {},
   "source": [
    "#### Outline\n",
    "* Value\n",
    "* Fill Methods\n",
    "  * ffill\n",
    "  * bfill\n",
    "* Axis\n",
    "* Limit\n",
    "* Inplace"
   ]
  },
  {
   "cell_type": "markdown",
   "id": "81d0ac23",
   "metadata": {},
   "source": [
    "##### Import Pandas"
   ]
  },
  {
   "cell_type": "markdown",
   "id": "d4451536",
   "metadata": {},
   "source": [
    "### The FillNA Method\n",
    "`dataset.fillna(x)`\n",
    "\n",
    "Replaces missing data in the dataset with the arguments provided."
   ]
  },
  {
   "cell_type": "markdown",
   "id": "958702e2",
   "metadata": {},
   "source": [
    "### Value\n",
    "\n",
    "`dataset.fillna(x)`\n",
    "\n",
    "Directly replaces Missing values with the given argument"
   ]
  },
  {
   "cell_type": "markdown",
   "id": "22a5c17f",
   "metadata": {},
   "source": [
    "#### Using Dictionary\n",
    "`dataset.fillna({` `col1 : val,` \n",
    "`col2 : val,` \n",
    "`... ,` \n",
    "`coln : val` `})` \n",
    "\n",
    "Specifies which values are to be used by which column for missing data"
   ]
  },
  {
   "cell_type": "markdown",
   "id": "0ee19313",
   "metadata": {},
   "source": [
    "### Method\n",
    "\n",
    "`method = ''`\n",
    "\n",
    "Specifies which method is to be used to fillin missing values"
   ]
  },
  {
   "cell_type": "markdown",
   "id": "12d74a23",
   "metadata": {},
   "source": [
    "#### ffill\n",
    "\n",
    "Forward fill: replaces the current missing value with the first non-missing value from the previous row(s)"
   ]
  },
  {
   "cell_type": "markdown",
   "id": "eb0dcb6f",
   "metadata": {},
   "source": [
    "#### bfill\n",
    "\n",
    "Backward fill: replaces the current missing value with the first non-missing value from the next row(s)"
   ]
  },
  {
   "cell_type": "markdown",
   "id": "62f0fbf3",
   "metadata": {},
   "source": [
    "### Axis\n",
    "`axis = n`\n",
    "\n",
    "Specifies upon which axis we want values to be filled (column, row, etc)\n",
    "\n",
    "`0 = column`\n",
    "\n",
    "`1 = row`"
   ]
  },
  {
   "cell_type": "markdown",
   "id": "40b04ec8",
   "metadata": {},
   "source": [
    "### Limit\n",
    "\n",
    "`limit = n`\n",
    "\n",
    "Specifies the maximum number of rows per/column we can fill, given by `n`\n"
   ]
  },
  {
   "cell_type": "markdown",
   "id": "32e8165f",
   "metadata": {},
   "source": [
    "### Inplace\n",
    "\n",
    "Specifies if we should update the current dataset or create a new one when using the fillna method"
   ]
  },
  {
   "cell_type": "markdown",
   "id": "3b6e4f42",
   "metadata": {},
   "source": [
    "### For Source code:\n",
    "https://sites.google.com/view/aorbtech/programming/\n",
    "\n",
    "#### @Aorb Tech"
   ]
  }
 ],
 "metadata": {
  "kernelspec": {
   "display_name": "Python 3",
   "language": "python",
   "name": "python3"
  },
  "language_info": {
   "codemirror_mode": {
    "name": "ipython",
    "version": 3
   },
   "file_extension": ".py",
   "mimetype": "text/x-python",
   "name": "python",
   "nbconvert_exporter": "python",
   "pygments_lexer": "ipython3",
   "version": "3.13.5"
  }
 },
 "nbformat": 4,
 "nbformat_minor": 5
}
