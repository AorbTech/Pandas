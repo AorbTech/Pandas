{
 "cells": [
  {
   "cell_type": "markdown",
   "id": "cc06d4f8",
   "metadata": {},
   "source": [
    "![cover](cover/04.%20CSV%20Files.png)"
   ]
  },
  {
   "cell_type": "markdown",
   "id": "190e8fb3",
   "metadata": {},
   "source": [
    "#### Outline\n",
    "* Reading a CSV File\n",
    "* Editing a CSV File\n",
    "* Properties\n",
    "* Parameters and Functions\n",
    "\n",
    "##### Parameters and Functions\n",
    "* nrows\n",
    "* usecols\n",
    "* skiprows\n",
    "* index_col\n",
    "* header\n",
    "* names\n",
    "* head()\n",
    "* tail()\n",
    "* dtype"
   ]
  },
  {
   "cell_type": "markdown",
   "id": "81d0ac23",
   "metadata": {},
   "source": [
    "##### Import Pandas"
   ]
  },
  {
   "cell_type": "code",
   "execution_count": 1,
   "id": "239bf62d",
   "metadata": {},
   "outputs": [],
   "source": [
    "import pandas"
   ]
  },
  {
   "cell_type": "markdown",
   "id": "d4451536",
   "metadata": {},
   "source": [
    "### Reading a CSV File\n",
    "`pandas.read_csv(file_location)`"
   ]
  },
  {
   "cell_type": "code",
   "execution_count": 2,
   "id": "f587569a",
   "metadata": {},
   "outputs": [
    {
     "name": "stdout",
     "output_type": "stream",
     "text": [
      "   first_name   surname sex date_of_birth\n",
      "0        Emma   Johnson   F    2001-03-15\n",
      "1        Liam     Brown   M    2003-07-22\n",
      "2      Olivia    Garcia   F    2002-11-05\n",
      "3        Noah    Miller   M    2004-09-30\n",
      "4         Ava     Davis   F    2000-12-11\n",
      "5       Ethan  Martinez   M    2002-04-19\n",
      "6      Sophia    Wilson   F    2005-01-28\n",
      "7       Mason  Anderson   M    2003-06-10\n",
      "8    Isabella    Thomas   F    2001-08-23\n",
      "9       Logan    Taylor   M    2004-05-07\n",
      "10        Mia     Moore   F    2000-02-17\n",
      "11      Lucas   Jackson   M    2005-10-02\n"
     ]
    }
   ],
   "source": [
    "students = pandas.read_csv(\"./datasets/students.csv\")\n",
    "print(students)"
   ]
  },
  {
   "cell_type": "markdown",
   "id": "958702e2",
   "metadata": {},
   "source": [
    "### Properties\n",
    "* `type()`\n",
    "* `columns`\n",
    "* `info()`\n",
    "* `shape`\n",
    "* `size`"
   ]
  },
  {
   "cell_type": "code",
   "execution_count": 3,
   "id": "8224d99b",
   "metadata": {},
   "outputs": [
    {
     "data": {
      "text/plain": [
       "pandas.core.frame.DataFrame"
      ]
     },
     "execution_count": 3,
     "metadata": {},
     "output_type": "execute_result"
    }
   ],
   "source": [
    "type(students)"
   ]
  },
  {
   "cell_type": "code",
   "execution_count": 4,
   "id": "9f878425",
   "metadata": {},
   "outputs": [
    {
     "data": {
      "text/plain": [
       "Index(['first_name', 'surname', 'sex', 'date_of_birth'], dtype='object')"
      ]
     },
     "execution_count": 4,
     "metadata": {},
     "output_type": "execute_result"
    }
   ],
   "source": [
    "students.columns"
   ]
  },
  {
   "cell_type": "code",
   "execution_count": 5,
   "id": "ded5d62f",
   "metadata": {},
   "outputs": [
    {
     "name": "stdout",
     "output_type": "stream",
     "text": [
      "<class 'pandas.core.frame.DataFrame'>\n",
      "RangeIndex: 12 entries, 0 to 11\n",
      "Data columns (total 4 columns):\n",
      " #   Column         Non-Null Count  Dtype \n",
      "---  ------         --------------  ----- \n",
      " 0   first_name     12 non-null     object\n",
      " 1   surname        12 non-null     object\n",
      " 2   sex            12 non-null     object\n",
      " 3   date_of_birth  12 non-null     object\n",
      "dtypes: object(4)\n",
      "memory usage: 516.0+ bytes\n"
     ]
    }
   ],
   "source": [
    "students.info()"
   ]
  },
  {
   "cell_type": "code",
   "execution_count": 6,
   "id": "9e440899",
   "metadata": {},
   "outputs": [
    {
     "data": {
      "text/plain": [
       "(12, 4)"
      ]
     },
     "execution_count": 6,
     "metadata": {},
     "output_type": "execute_result"
    }
   ],
   "source": [
    "students.shape"
   ]
  },
  {
   "cell_type": "code",
   "execution_count": 7,
   "id": "06e15a22",
   "metadata": {},
   "outputs": [
    {
     "data": {
      "text/plain": [
       "48"
      ]
     },
     "execution_count": 7,
     "metadata": {},
     "output_type": "execute_result"
    }
   ],
   "source": [
    "students.size"
   ]
  },
  {
   "cell_type": "markdown",
   "id": "2e723435",
   "metadata": {},
   "source": [
    "### Editing a CSV File"
   ]
  },
  {
   "cell_type": "markdown",
   "id": "8a79ec4b",
   "metadata": {},
   "source": [
    "### Parameters"
   ]
  },
  {
   "cell_type": "markdown",
   "id": "75d36afb",
   "metadata": {},
   "source": [
    "#### nrows\n",
    "`nrows=n`\n",
    "\n",
    "Defines how many rows of the dataset we want to use"
   ]
  },
  {
   "cell_type": "code",
   "execution_count": 8,
   "id": "aea45c0a",
   "metadata": {},
   "outputs": [
    {
     "name": "stdout",
     "output_type": "stream",
     "text": [
      "    rank                                  name             author  avg_rating  \\\n",
      "0      1                 To Kill a Mockingbird         Harper Lee        4.26   \n",
      "1      2                 The Lord of the Rings     J.R.R. Tolkien        4.54   \n",
      "2      3            The Wonderful Wizard of Oz      L. Frank Baum        4.00   \n",
      "3      4            The Fellowship of the Ring     J.R.R. Tolkien        4.40   \n",
      "4      5                        The Two Towers     J.R.R. Tolkien        4.50   \n",
      "5      6       One Flew Over the Cuckoo’s Nest          Ken Kesey        4.20   \n",
      "6      7  Harry Potter and the Deathly Hallows       J.K. Rowling        4.62   \n",
      "7      8                The Return of the King     J.R.R. Tolkien        4.58   \n",
      "8      9                    Gone with the Wind  Margaret Mitchell        4.31   \n",
      "9     10                           The Shining       Stephen King        4.28   \n",
      "10    11                        V for Vendetta         Alan Moore        4.26   \n",
      "11    12                          Forrest Gump      Winston Groom        4.01   \n",
      "\n",
      "    no_ratings  \n",
      "0      6770621  \n",
      "1       723003  \n",
      "2       504274  \n",
      "3      3094267  \n",
      "4      1102518  \n",
      "5       773461  \n",
      "6      4053657  \n",
      "7      1020742  \n",
      "8      1250394  \n",
      "9      1672663  \n",
      "10      322748  \n",
      "11       71931  \n"
     ]
    }
   ],
   "source": [
    "books = pandas.read_csv(\"./datasets/goodreads.csv\")\n",
    "print(books)"
   ]
  },
  {
   "cell_type": "code",
   "execution_count": 9,
   "id": "886022a9",
   "metadata": {},
   "outputs": [
    {
     "name": "stdout",
     "output_type": "stream",
     "text": [
      "   rank                        name          author  avg_rating  no_ratings\n",
      "0     1       To Kill a Mockingbird      Harper Lee        4.26     6770621\n",
      "1     2       The Lord of the Rings  J.R.R. Tolkien        4.54      723003\n",
      "2     3  The Wonderful Wizard of Oz   L. Frank Baum        4.00      504274\n",
      "3     4  The Fellowship of the Ring  J.R.R. Tolkien        4.40     3094267\n",
      "4     5              The Two Towers  J.R.R. Tolkien        4.50     1102518\n"
     ]
    }
   ],
   "source": [
    "books_5 = pandas.read_csv(\"./datasets/goodreads.csv\", nrows=5)\n",
    "print(books_5)"
   ]
  },
  {
   "cell_type": "markdown",
   "id": "7b5b04b7",
   "metadata": {},
   "source": [
    "#### usecols\n",
    "`usecols=[a,b,...,xn]`\n",
    "\n",
    "Defines which columns in the dataset we will use, these can be defined by their names, or indices, given by an integer"
   ]
  },
  {
   "cell_type": "code",
   "execution_count": 10,
   "id": "a9ce9729",
   "metadata": {},
   "outputs": [
    {
     "name": "stdout",
     "output_type": "stream",
     "text": [
      "                         name  avg_rating\n",
      "0       To Kill a Mockingbird        4.26\n",
      "1       The Lord of the Rings        4.54\n",
      "2  The Wonderful Wizard of Oz        4.00\n"
     ]
    }
   ],
   "source": [
    "books_3 = pandas.read_csv(\"./datasets/goodreads.csv\", nrows=3, usecols=[\"name\", \"avg_rating\"])\n",
    "print(books_3)"
   ]
  },
  {
   "cell_type": "code",
   "execution_count": 11,
   "id": "59717a5b",
   "metadata": {},
   "outputs": [
    {
     "name": "stdout",
     "output_type": "stream",
     "text": [
      "                         name  avg_rating\n",
      "0       To Kill a Mockingbird        4.26\n",
      "1       The Lord of the Rings        4.54\n",
      "2  The Wonderful Wizard of Oz        4.00\n"
     ]
    }
   ],
   "source": [
    "books_3 = pandas.read_csv(\"./datasets/goodreads.csv\", nrows=3, usecols=[1,3])\n",
    "print(books_3)"
   ]
  },
  {
   "cell_type": "markdown",
   "id": "4df67725",
   "metadata": {},
   "source": [
    "#### skiprows\n",
    "`skiprows=[a,b,...,xn]`\n",
    "\n",
    "Defines which rows in the dataset we will skip, these can be defined by their names, or indices, given by an integer"
   ]
  },
  {
   "cell_type": "code",
   "execution_count": 12,
   "id": "f02df7b4",
   "metadata": {},
   "outputs": [
    {
     "name": "stdout",
     "output_type": "stream",
     "text": [
      "    rank                                               name  \\\n",
      "0      1                           The Shawshank Redemption   \n",
      "1      2                                      The Godfather   \n",
      "2      3                                    The Dark Knight   \n",
      "3      4                              The Godfather Part II   \n",
      "4      5                                       12 Angry Men   \n",
      "5      6      The Lord of the Rings: The Return of the King   \n",
      "6      7                                   Schindler's List   \n",
      "7      8  The Lord of the Rings: The Fellowship of the Ring   \n",
      "8      9                                       Pulp Fiction   \n",
      "9     10                      The Good the Bad and the Ugly   \n",
      "10    11                                       Forrest Gump   \n",
      "11    12              The Lord of the Rings: The Two Towers   \n",
      "\n",
      "                director  length  avg_rating  no_ratings  \n",
      "0         Frank Darabont  2h 22m         9.3     3100000  \n",
      "1   Francis Ford Coppola  2h 55m         9.2     2200000  \n",
      "2      Christopher Nolan  2h 32m         9.1     3100000  \n",
      "3   Francis Ford Coppola  3h 22m         9.0     1500000  \n",
      "4           Sidney Lumet  1h 36m         9.0      953000  \n",
      "5          Peter Jackson  3h 21m         9.0     2100000  \n",
      "6       Steven Spielberg  3h 15m         9.0     1600000  \n",
      "7          Peter Jackson  2h 58m         8.9     2100000  \n",
      "8      Quentin Tarantino  2h 34m         8.8     2400000  \n",
      "9           Sergio Leone  2h 28m         8.8      871000  \n",
      "10       Robert Zemeckis  2h 22m         8.8     2400000  \n",
      "11         Peter Jackson  2h 59m         8.8     1900000  \n"
     ]
    }
   ],
   "source": [
    "films = pandas.read_csv(\"./datasets/imdb.csv\")\n",
    "print(films)"
   ]
  },
  {
   "cell_type": "code",
   "execution_count": 13,
   "id": "85ee4f68",
   "metadata": {},
   "outputs": [
    {
     "name": "stdout",
     "output_type": "stream",
     "text": [
      "   rank              name              director  length  avg_rating  \\\n",
      "0     2     The Godfather  Francis Ford Coppola  2h 55m         9.2   \n",
      "1     3   The Dark Knight     Christopher Nolan  2h 32m         9.1   \n",
      "2     5      12 Angry Men          Sidney Lumet  1h 36m         9.0   \n",
      "3     7  Schindler's List      Steven Spielberg  3h 15m         9.0   \n",
      "4     9      Pulp Fiction     Quentin Tarantino  2h 34m         8.8   \n",
      "5    11      Forrest Gump       Robert Zemeckis  2h 22m         8.8   \n",
      "\n",
      "   no_ratings  \n",
      "0     2200000  \n",
      "1     3100000  \n",
      "2      953000  \n",
      "3     1600000  \n",
      "4     2400000  \n",
      "5     2400000  \n"
     ]
    }
   ],
   "source": [
    "short_name_films = pandas.read_csv(\"./datasets/imdb.csv\", skiprows=[1,4,6,8,10,12])\n",
    "print(short_name_films)"
   ]
  },
  {
   "cell_type": "markdown",
   "id": "5f494683",
   "metadata": {},
   "source": [
    "#### index_col\n",
    "`index_col=n`\n",
    "\n",
    "Sets a column of the dataset as the index column"
   ]
  },
  {
   "cell_type": "code",
   "execution_count": 14,
   "id": "69faf9d4",
   "metadata": {},
   "outputs": [
    {
     "name": "stdout",
     "output_type": "stream",
     "text": [
      "                                                   name              director  \\\n",
      "rank                                                                            \n",
      "1                              The Shawshank Redemption        Frank Darabont   \n",
      "2                                         The Godfather  Francis Ford Coppola   \n",
      "3                                       The Dark Knight     Christopher Nolan   \n",
      "4                                 The Godfather Part II  Francis Ford Coppola   \n",
      "5                                          12 Angry Men          Sidney Lumet   \n",
      "6         The Lord of the Rings: The Return of the King         Peter Jackson   \n",
      "7                                      Schindler's List      Steven Spielberg   \n",
      "8     The Lord of the Rings: The Fellowship of the Ring         Peter Jackson   \n",
      "9                                          Pulp Fiction     Quentin Tarantino   \n",
      "10                        The Good the Bad and the Ugly          Sergio Leone   \n",
      "11                                         Forrest Gump       Robert Zemeckis   \n",
      "12                The Lord of the Rings: The Two Towers         Peter Jackson   \n",
      "\n",
      "      length  avg_rating  no_ratings  \n",
      "rank                                  \n",
      "1     2h 22m         9.3     3100000  \n",
      "2     2h 55m         9.2     2200000  \n",
      "3     2h 32m         9.1     3100000  \n",
      "4     3h 22m         9.0     1500000  \n",
      "5     1h 36m         9.0      953000  \n",
      "6     3h 21m         9.0     2100000  \n",
      "7     3h 15m         9.0     1600000  \n",
      "8     2h 58m         8.9     2100000  \n",
      "9     2h 34m         8.8     2400000  \n",
      "10    2h 28m         8.8      871000  \n",
      "11    2h 22m         8.8     2400000  \n",
      "12    2h 59m         8.8     1900000  \n"
     ]
    }
   ],
   "source": [
    "movies_ranked = pandas.read_csv(\"./datasets/imdb.csv\", index_col=0)\n",
    "print(movies_ranked)"
   ]
  },
  {
   "cell_type": "markdown",
   "id": "12255534",
   "metadata": {},
   "source": [
    "#### header\n",
    "`header=n` --> can be `None` type\n",
    "\n",
    "Sets a row of the dataset as the header (top row) and to skip those above, as defined by its index"
   ]
  },
  {
   "cell_type": "code",
   "execution_count": 15,
   "id": "59c92159",
   "metadata": {},
   "outputs": [
    {
     "name": "stdout",
     "output_type": "stream",
     "text": [
      "    rank                                               name  \\\n",
      "0      1                           The Shawshank Redemption   \n",
      "1      2                                      The Godfather   \n",
      "2      3                                    The Dark Knight   \n",
      "3      4                              The Godfather Part II   \n",
      "4      5                                       12 Angry Men   \n",
      "5      6      The Lord of the Rings: The Return of the King   \n",
      "6      7                                   Schindler's List   \n",
      "7      8  The Lord of the Rings: The Fellowship of the Ring   \n",
      "8      9                                       Pulp Fiction   \n",
      "9     10                      The Good the Bad and the Ugly   \n",
      "10    11                                       Forrest Gump   \n",
      "11    12              The Lord of the Rings: The Two Towers   \n",
      "\n",
      "                director  length  avg_rating  no_ratings  \n",
      "0         Frank Darabont  2h 22m         9.3     3100000  \n",
      "1   Francis Ford Coppola  2h 55m         9.2     2200000  \n",
      "2      Christopher Nolan  2h 32m         9.1     3100000  \n",
      "3   Francis Ford Coppola  3h 22m         9.0     1500000  \n",
      "4           Sidney Lumet  1h 36m         9.0      953000  \n",
      "5          Peter Jackson  3h 21m         9.0     2100000  \n",
      "6       Steven Spielberg  3h 15m         9.0     1600000  \n",
      "7          Peter Jackson  2h 58m         8.9     2100000  \n",
      "8      Quentin Tarantino  2h 34m         8.8     2400000  \n",
      "9           Sergio Leone  2h 28m         8.8      871000  \n",
      "10       Robert Zemeckis  2h 22m         8.8     2400000  \n",
      "11         Peter Jackson  2h 59m         8.8     1900000  \n"
     ]
    }
   ],
   "source": [
    "print(films)"
   ]
  },
  {
   "cell_type": "code",
   "execution_count": 16,
   "id": "048ab11a",
   "metadata": {},
   "outputs": [
    {
     "name": "stdout",
     "output_type": "stream",
     "text": [
      "     0                                                  1  \\\n",
      "0    1                           The Shawshank Redemption   \n",
      "1    2                                      The Godfather   \n",
      "2    3                                    The Dark Knight   \n",
      "3    4                              The Godfather Part II   \n",
      "4    5                                       12 Angry Men   \n",
      "5    6      The Lord of the Rings: The Return of the King   \n",
      "6    7                                   Schindler's List   \n",
      "7    8  The Lord of the Rings: The Fellowship of the Ring   \n",
      "8    9                                       Pulp Fiction   \n",
      "9   10                      The Good the Bad and the Ugly   \n",
      "10  11                                       Forrest Gump   \n",
      "11  12              The Lord of the Rings: The Two Towers   \n",
      "\n",
      "                       2       3    4        5  \n",
      "0         Frank Darabont  2h 22m  9.3  3100000  \n",
      "1   Francis Ford Coppola  2h 55m  9.2  2200000  \n",
      "2      Christopher Nolan  2h 32m  9.1  3100000  \n",
      "3   Francis Ford Coppola  3h 22m  9.0  1500000  \n",
      "4           Sidney Lumet  1h 36m  9.0   953000  \n",
      "5          Peter Jackson  3h 21m  9.0  2100000  \n",
      "6       Steven Spielberg  3h 15m  9.0  1600000  \n",
      "7          Peter Jackson  2h 58m  8.9  2100000  \n",
      "8      Quentin Tarantino  2h 34m  8.8  2400000  \n",
      "9           Sergio Leone  2h 28m  8.8   871000  \n",
      "10       Robert Zemeckis  2h 22m  8.8  2400000  \n",
      "11         Peter Jackson  2h 59m  8.8  1900000  \n"
     ]
    }
   ],
   "source": [
    "films1 = pandas.read_csv(\"./datasets/imdb.csv\", header=None, skiprows=[0])\n",
    "print(films1)"
   ]
  },
  {
   "cell_type": "code",
   "execution_count": 17,
   "id": "beae1fe3",
   "metadata": {},
   "outputs": [
    {
     "name": "stdout",
     "output_type": "stream",
     "text": [
      "    5                                       12 Angry Men       Sidney Lumet  \\\n",
      "0   6      The Lord of the Rings: The Return of the King      Peter Jackson   \n",
      "1   7                                   Schindler's List   Steven Spielberg   \n",
      "2   8  The Lord of the Rings: The Fellowship of the Ring      Peter Jackson   \n",
      "3   9                                       Pulp Fiction  Quentin Tarantino   \n",
      "4  10                      The Good the Bad and the Ugly       Sergio Leone   \n",
      "5  11                                       Forrest Gump    Robert Zemeckis   \n",
      "6  12              The Lord of the Rings: The Two Towers      Peter Jackson   \n",
      "\n",
      "   1h 36m  9.0   953000  \n",
      "0  3h 21m  9.0  2100000  \n",
      "1  3h 15m  9.0  1600000  \n",
      "2  2h 58m  8.9  2100000  \n",
      "3  2h 34m  8.8  2400000  \n",
      "4  2h 28m  8.8   871000  \n",
      "5  2h 22m  8.8  2400000  \n",
      "6  2h 59m  8.8  1900000  \n"
     ]
    }
   ],
   "source": [
    "films2 = pandas.read_csv(\"./datasets/imdb.csv\", header=4, skiprows=1)\n",
    "print(films2)"
   ]
  },
  {
   "cell_type": "markdown",
   "id": "43842d16",
   "metadata": {},
   "source": [
    "#### names\n",
    "`names=[\"\",..,\"\"]`\n",
    "\n",
    "Sets header names for the dataset"
   ]
  },
  {
   "cell_type": "code",
   "execution_count": 18,
   "id": "8888e2db",
   "metadata": {},
   "outputs": [
    {
     "name": "stdout",
     "output_type": "stream",
     "text": [
      "                     name  cost_to_produce  cost_to_customer   category\n",
      "0            Cheeseburger             1.25              4.99       food\n",
      "1                   Fries             0.60              2.49       food\n",
      "2   Chicken Nuggets (6pc)             1.10              3.99       food\n",
      "3     Soft Drink (Medium)             0.25              1.89      drink\n",
      "4               Milkshake             0.90              3.49      drink\n",
      "5        Ice Cream Sundae             0.80              2.99    dessert\n",
      "6          Ketchup Packet             0.02              0.10  condiment\n",
      "7           BBQ Sauce Cup             0.05              0.25  condiment\n",
      "8               Apple Pie             0.70              2.59    dessert\n",
      "9             Veggie Wrap             1.50              5.49       food\n",
      "10          Bottled Water             0.20              1.49      drink\n",
      "11       Chicken Sandwich             1.40              4.79       food\n"
     ]
    }
   ],
   "source": [
    "menu = pandas.read_csv(\"./datasets/menu_items.csv\")\n",
    "print(menu)"
   ]
  },
  {
   "cell_type": "code",
   "execution_count": 19,
   "id": "d2caa0c2",
   "metadata": {},
   "outputs": [
    {
     "name": "stdout",
     "output_type": "stream",
     "text": [
      "                     name  cost  sell_price   category\n",
      "0            Cheeseburger  1.25        4.99       food\n",
      "1                   Fries  0.60        2.49       food\n",
      "2   Chicken Nuggets (6pc)  1.10        3.99       food\n",
      "3     Soft Drink (Medium)  0.25        1.89      drink\n",
      "4               Milkshake  0.90        3.49      drink\n",
      "5        Ice Cream Sundae  0.80        2.99    dessert\n",
      "6          Ketchup Packet  0.02        0.10  condiment\n",
      "7           BBQ Sauce Cup  0.05        0.25  condiment\n",
      "8               Apple Pie  0.70        2.59    dessert\n",
      "9             Veggie Wrap  1.50        5.49       food\n",
      "10          Bottled Water  0.20        1.49      drink\n",
      "11       Chicken Sandwich  1.40        4.79       food\n"
     ]
    }
   ],
   "source": [
    "short_menu = pandas.read_csv(\"./datasets/menu_items.csv\", names=[\"name\", \"cost\", \"sell_price\", \"category\"], skiprows=1)\n",
    "print(short_menu)"
   ]
  },
  {
   "cell_type": "markdown",
   "id": "2ad57809",
   "metadata": {},
   "source": [
    "#### dtype\n",
    "`dtype={\"\" : \"\"}`\n",
    "\n",
    "Changes the datatype of any particular column"
   ]
  },
  {
   "cell_type": "code",
   "execution_count": 20,
   "id": "f46a24ff",
   "metadata": {},
   "outputs": [
    {
     "name": "stdout",
     "output_type": "stream",
     "text": [
      "   first_name   surname sex                       email  \\\n",
      "0        John     Smith   M      john.smith@company.com   \n",
      "1       Emily     Jones   F     emily.jones@company.com   \n",
      "2     Michael     Brown   M   michael.brown@company.com   \n",
      "3       Sarah    Wilson   F    sarah.wilson@company.com   \n",
      "4       David   Johnson   M   david.johnson@company.com   \n",
      "5        Anna    Garcia   F     anna.garcia@company.com   \n",
      "6       James    Miller   M    james.miller@company.com   \n",
      "7       Laura  Martinez   F  laura.martinez@company.com   \n",
      "8      Robert     Davis   M    robert.davis@company.com   \n",
      "9      Sophia     Lopez   F    sophia.lopez@company.com   \n",
      "10     Daniel    Taylor   M   daniel.taylor@company.com   \n",
      "11     Olivia     Clark   F    olivia.clark@company.com   \n",
      "\n",
      "                     role  salary  \n",
      "0                 Manager   62000  \n",
      "1            Data Analyst   52000  \n",
      "2       Software Engineer   58000  \n",
      "3           HR Specialist   47000  \n",
      "4         Sales Executive   54000  \n",
      "5   Marketing Coordinator   49000  \n",
      "6              Technician   43000  \n",
      "7        Product Designer   56000  \n",
      "8              Accountant   51000  \n",
      "9        Customer Support   40000  \n",
      "10             IT Support   45000  \n",
      "11      Project Assistant   42000  \n"
     ]
    }
   ],
   "source": [
    "employees = pandas.read_csv(\"./datasets/employees.csv\")\n",
    "print(employees)"
   ]
  },
  {
   "cell_type": "code",
   "execution_count": 21,
   "id": "4c06b7cc",
   "metadata": {},
   "outputs": [
    {
     "name": "stdout",
     "output_type": "stream",
     "text": [
      "   first_name   surname sex                       email  \\\n",
      "0        John     Smith   M      john.smith@company.com   \n",
      "1       Emily     Jones   F     emily.jones@company.com   \n",
      "2     Michael     Brown   M   michael.brown@company.com   \n",
      "3       Sarah    Wilson   F    sarah.wilson@company.com   \n",
      "4       David   Johnson   M   david.johnson@company.com   \n",
      "5        Anna    Garcia   F     anna.garcia@company.com   \n",
      "6       James    Miller   M    james.miller@company.com   \n",
      "7       Laura  Martinez   F  laura.martinez@company.com   \n",
      "8      Robert     Davis   M    robert.davis@company.com   \n",
      "9      Sophia     Lopez   F    sophia.lopez@company.com   \n",
      "10     Daniel    Taylor   M   daniel.taylor@company.com   \n",
      "11     Olivia     Clark   F    olivia.clark@company.com   \n",
      "\n",
      "                     role   salary  \n",
      "0                 Manager  62000.0  \n",
      "1            Data Analyst  52000.0  \n",
      "2       Software Engineer  58000.0  \n",
      "3           HR Specialist  47000.0  \n",
      "4         Sales Executive  54000.0  \n",
      "5   Marketing Coordinator  49000.0  \n",
      "6              Technician  43000.0  \n",
      "7        Product Designer  56000.0  \n",
      "8              Accountant  51000.0  \n",
      "9        Customer Support  40000.0  \n",
      "10             IT Support  45000.0  \n",
      "11      Project Assistant  42000.0  \n"
     ]
    }
   ],
   "source": [
    "employees = pandas.read_csv(\"./datasets/employees.csv\", dtype={\"salary\":\"float\"})\n",
    "print(employees)"
   ]
  },
  {
   "cell_type": "markdown",
   "id": "2e5ea927",
   "metadata": {},
   "source": [
    "### Functions"
   ]
  },
  {
   "cell_type": "markdown",
   "id": "e8c5b743",
   "metadata": {},
   "source": [
    "#### head()\n",
    "`head(n)`\n",
    "\n",
    "Selects the first `n` rows of the dataset, (default=5)"
   ]
  },
  {
   "cell_type": "code",
   "execution_count": 22,
   "id": "1206a84e",
   "metadata": {},
   "outputs": [
    {
     "name": "stdout",
     "output_type": "stream",
     "text": [
      "   first_name   surname sex                       email  \\\n",
      "0        John     Smith   M      john.smith@company.com   \n",
      "1       Emily     Jones   F     emily.jones@company.com   \n",
      "2     Michael     Brown   M   michael.brown@company.com   \n",
      "3       Sarah    Wilson   F    sarah.wilson@company.com   \n",
      "4       David   Johnson   M   david.johnson@company.com   \n",
      "5        Anna    Garcia   F     anna.garcia@company.com   \n",
      "6       James    Miller   M    james.miller@company.com   \n",
      "7       Laura  Martinez   F  laura.martinez@company.com   \n",
      "8      Robert     Davis   M    robert.davis@company.com   \n",
      "9      Sophia     Lopez   F    sophia.lopez@company.com   \n",
      "10     Daniel    Taylor   M   daniel.taylor@company.com   \n",
      "11     Olivia     Clark   F    olivia.clark@company.com   \n",
      "\n",
      "                     role   salary  \n",
      "0                 Manager  62000.0  \n",
      "1            Data Analyst  52000.0  \n",
      "2       Software Engineer  58000.0  \n",
      "3           HR Specialist  47000.0  \n",
      "4         Sales Executive  54000.0  \n",
      "5   Marketing Coordinator  49000.0  \n",
      "6              Technician  43000.0  \n",
      "7        Product Designer  56000.0  \n",
      "8              Accountant  51000.0  \n",
      "9        Customer Support  40000.0  \n",
      "10             IT Support  45000.0  \n",
      "11      Project Assistant  42000.0  \n"
     ]
    }
   ],
   "source": [
    "print(employees)"
   ]
  },
  {
   "cell_type": "code",
   "execution_count": 23,
   "id": "39905cf8",
   "metadata": {},
   "outputs": [
    {
     "name": "stdout",
     "output_type": "stream",
     "text": [
      "  first_name  surname sex                      email               role  \\\n",
      "0       John    Smith   M     john.smith@company.com            Manager   \n",
      "1      Emily    Jones   F    emily.jones@company.com       Data Analyst   \n",
      "2    Michael    Brown   M  michael.brown@company.com  Software Engineer   \n",
      "3      Sarah   Wilson   F   sarah.wilson@company.com      HR Specialist   \n",
      "4      David  Johnson   M  david.johnson@company.com    Sales Executive   \n",
      "\n",
      "    salary  \n",
      "0  62000.0  \n",
      "1  52000.0  \n",
      "2  58000.0  \n",
      "3  47000.0  \n",
      "4  54000.0  \n"
     ]
    }
   ],
   "source": [
    "print(employees.head())"
   ]
  },
  {
   "cell_type": "code",
   "execution_count": 24,
   "id": "3b8b4be0",
   "metadata": {},
   "outputs": [
    {
     "name": "stdout",
     "output_type": "stream",
     "text": [
      "  first_name surname sex                      email               role  \\\n",
      "0       John   Smith   M     john.smith@company.com            Manager   \n",
      "1      Emily   Jones   F    emily.jones@company.com       Data Analyst   \n",
      "2    Michael   Brown   M  michael.brown@company.com  Software Engineer   \n",
      "3      Sarah  Wilson   F   sarah.wilson@company.com      HR Specialist   \n",
      "\n",
      "    salary  \n",
      "0  62000.0  \n",
      "1  52000.0  \n",
      "2  58000.0  \n",
      "3  47000.0  \n"
     ]
    }
   ],
   "source": [
    "print(employees.head(4))"
   ]
  },
  {
   "cell_type": "code",
   "execution_count": 25,
   "id": "879094b7",
   "metadata": {},
   "outputs": [
    {
     "name": "stdout",
     "output_type": "stream",
     "text": [
      "  first_name surname sex                   email     role   salary\n",
      "0       John   Smith   M  john.smith@company.com  Manager  62000.0\n"
     ]
    }
   ],
   "source": [
    "print(employees.head(1))"
   ]
  },
  {
   "cell_type": "markdown",
   "id": "c888cc99",
   "metadata": {},
   "source": [
    "#### tail()\n",
    "`tail(n)`\n",
    "\n",
    "Selects the last `n` rows of the dataset, (default=5)"
   ]
  },
  {
   "cell_type": "code",
   "execution_count": 26,
   "id": "51ee2d32",
   "metadata": {},
   "outputs": [
    {
     "name": "stdout",
     "output_type": "stream",
     "text": [
      "   first_name   surname sex date_of_birth\n",
      "0        Emma   Johnson   F    2001-03-15\n",
      "1        Liam     Brown   M    2003-07-22\n",
      "2      Olivia    Garcia   F    2002-11-05\n",
      "3        Noah    Miller   M    2004-09-30\n",
      "4         Ava     Davis   F    2000-12-11\n",
      "5       Ethan  Martinez   M    2002-04-19\n",
      "6      Sophia    Wilson   F    2005-01-28\n",
      "7       Mason  Anderson   M    2003-06-10\n",
      "8    Isabella    Thomas   F    2001-08-23\n",
      "9       Logan    Taylor   M    2004-05-07\n",
      "10        Mia     Moore   F    2000-02-17\n",
      "11      Lucas   Jackson   M    2005-10-02\n"
     ]
    }
   ],
   "source": [
    "print(students)"
   ]
  },
  {
   "cell_type": "code",
   "execution_count": 27,
   "id": "fa431dfc",
   "metadata": {},
   "outputs": [
    {
     "name": "stdout",
     "output_type": "stream",
     "text": [
      "   first_name   surname sex date_of_birth\n",
      "7       Mason  Anderson   M    2003-06-10\n",
      "8    Isabella    Thomas   F    2001-08-23\n",
      "9       Logan    Taylor   M    2004-05-07\n",
      "10        Mia     Moore   F    2000-02-17\n",
      "11      Lucas   Jackson   M    2005-10-02\n"
     ]
    }
   ],
   "source": [
    "print(students.tail())"
   ]
  },
  {
   "cell_type": "code",
   "execution_count": 28,
   "id": "dfbc86b9",
   "metadata": {},
   "outputs": [
    {
     "name": "stdout",
     "output_type": "stream",
     "text": [
      "   first_name   surname sex date_of_birth\n",
      "5       Ethan  Martinez   M    2002-04-19\n",
      "6      Sophia    Wilson   F    2005-01-28\n",
      "7       Mason  Anderson   M    2003-06-10\n",
      "8    Isabella    Thomas   F    2001-08-23\n",
      "9       Logan    Taylor   M    2004-05-07\n",
      "10        Mia     Moore   F    2000-02-17\n",
      "11      Lucas   Jackson   M    2005-10-02\n"
     ]
    }
   ],
   "source": [
    "print(students.tail(7))"
   ]
  },
  {
   "cell_type": "code",
   "execution_count": 29,
   "id": "67d03633",
   "metadata": {},
   "outputs": [
    {
     "name": "stdout",
     "output_type": "stream",
     "text": [
      "                name  cost  sell_price category\n",
      "9        Veggie Wrap   1.5        5.49     food\n",
      "10     Bottled Water   0.2        1.49    drink\n",
      "11  Chicken Sandwich   1.4        4.79     food\n"
     ]
    }
   ],
   "source": [
    "print(short_menu.tail(3))"
   ]
  },
  {
   "cell_type": "markdown",
   "id": "3b6e4f42",
   "metadata": {},
   "source": [
    "### For Source code:\n",
    "https://sites.google.com/view/aorbtech/programming/\n",
    "\n",
    "#### @Aorb Tech"
   ]
  }
 ],
 "metadata": {
  "kernelspec": {
   "display_name": "Python 3",
   "language": "python",
   "name": "python3"
  },
  "language_info": {
   "codemirror_mode": {
    "name": "ipython",
    "version": 3
   },
   "file_extension": ".py",
   "mimetype": "text/x-python",
   "name": "python",
   "nbconvert_exporter": "python",
   "pygments_lexer": "ipython3",
   "version": "3.13.4"
  }
 },
 "nbformat": 4,
 "nbformat_minor": 5
}
